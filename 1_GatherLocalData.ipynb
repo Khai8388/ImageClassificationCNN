{
 "cells": [
  {
   "cell_type": "code",
   "execution_count": null,
   "metadata": {},
   "outputs": [],
   "source": [
    "\"\"\"\n",
    "Gather local data and shuffle them for training purpose\n",
    "\n",
    "You might change the kaggle folder name in DATADIR path to suit your case.\n",
    "\"\"\"\n",
    "\n",
    "import numpy as np # Array of images\n",
    "import matplotlib.pyplot as plt\n",
    "import os # Iterate through directories and join paths\n",
    "import cv2 # Image operations\n",
    "\n",
    "\n",
    "# Get your current working directory\n",
    "DIR = os.getcwd()\n",
    "print(DIR)\n",
    "\n",
    "# Change directory to PetImages \n",
    "DATADIR = os.path.join(DIR, \"kagglecatsanddogs_3367a\", \"PetImages\")\n",
    "\n",
    "# Categories to classify\n",
    "CATEGORIES = [\"Dog\", \"Cat\"]\n",
    "\n",
    "\n",
    "\"1. Convert all the image examples to an array then convert to grey scale if essential\"\n",
    "\n",
    "# Iterate through all the examples of dogs and cats\n",
    "for category in CATEGORIES:\n",
    "    path = os.path.join(DATADIR, category) # path to cats or dogs dir\n",
    "    # iterate through a bunch of those images with names by just numbers\n",
    "    for img in os.listdir(path):\n",
    "        # convert image to an array using cv2.imread()\n",
    "        # os.path.join(path,img) gives full path to that image\n",
    "        # then convert to grey scale using IMREAD_GRAYSCALE \n",
    "        # (RGB data = 3 times size data of grey scale data)\n",
    "        # In a lot of identifying tasks, color is essential but not this task\n",
    "        img_array = cv2.imread(os.path.join(path,img), cv2.IMREAD_GRAYSCALE)\n",
    "        \n",
    "        #to make sure it is what we expect, we can see the picture by using\n",
    "        \n",
    "        plt.imshow(img_array, cmap = \"gray\")\n",
    "        plt.show()\n",
    "        \n",
    "        break\n",
    "    break"
   ]
  },
  {
   "cell_type": "code",
   "execution_count": null,
   "metadata": {},
   "outputs": [],
   "source": [
    "\"2. Make everything the same shape 50x50 , decide the size u wanna go with\"\n",
    "IMG_SIZE = 50\n",
    "new_array = cv2.resize(img_array, (IMG_SIZE, IMG_SIZE))\n",
    "plt.imshow(new_array, cmap = 'gray')\n",
    "plt.show()"
   ]
  },
  {
   "cell_type": "code",
   "execution_count": null,
   "metadata": {},
   "outputs": [],
   "source": [
    "\"3. Create training_dataset which has categories in number and broken images are got rid of\"\n",
    "training_data = []\n",
    "def create_training_data():\n",
    "    for category in CATEGORIES:\n",
    "        path = os.path.join(DATADIR, category) # path to cats or dogs dir\n",
    "\n",
    "        # we got the features as number, but our labels, classifications are not yet number\n",
    "        # so we need to convert string \"dog\" ,\"cat\" to numerical\n",
    "        class_num = CATEGORIES.index(category)\n",
    "\n",
    "        # iterate through a bunch of those images with names by just numbers\n",
    "        for img in os.listdir(path):\n",
    "            # some images might be broken so we use try-except\n",
    "            try:\n",
    "                img_array = cv2.imread(os.path.join(path,img), cv2.IMREAD_GRAYSCALE)\n",
    "                new_array = cv2.resize(img_array, (IMG_SIZE, IMG_SIZE))\n",
    "\n",
    "                # append new array and classifications to the training_dataset\n",
    "                training_data.append([new_array, class_num])\n",
    "            except Exception as e:\n",
    "                pass\n",
    "\n",
    "# Training dataset should be balanced 50/50 for dog/cat dataset so model will not have hardtime learning\n",
    "create_training_data()\n"
   ]
  },
  {
   "cell_type": "code",
   "execution_count": null,
   "metadata": {},
   "outputs": [],
   "source": [
    "# Length of training data\n",
    "print(len(training_data))"
   ]
  },
  {
   "cell_type": "code",
   "execution_count": null,
   "metadata": {},
   "outputs": [],
   "source": [
    "\"4. Shuffle the data so the neuron network can learn better\"\n",
    "import random\n",
    "random.shuffle(training_data)   # training_data is a list, mutable\n"
   ]
  },
  {
   "cell_type": "code",
   "execution_count": null,
   "metadata": {},
   "outputs": [],
   "source": [
    "\"5. Pack to variables we use to feed neural network\"\n",
    "X = []\n",
    "y = []\n",
    "for features, lable in training_data:\n",
    "    # X and y are the lists, but we cannot pass a list to a neuron network\n",
    "    X.append(features)\n",
    "    y.append(lable)\n",
    "    \n",
    "    # So y can be a list, but X has to be a numpy array and then we reshape it\n",
    "    # -1 is how many features we have, then IMG_SIZE, then 1 because it is a grayscale (3 for RGB)\n",
    "X = np.array(X).reshape(-1, IMG_SIZE, IMG_SIZE, 1)     "
   ]
  },
  {
   "cell_type": "code",
   "execution_count": null,
   "metadata": {},
   "outputs": [],
   "source": [
    "\"6. Save data using pickle\"\n",
    "# Save ur data so u dont have to redo it every time\n",
    "import pickle #or numpy\n",
    "\n",
    "# Create pickle files to save data\n",
    "pickle_out = open(\"X.pickle\", \"wb\")\n",
    "pickle.dump(X, pickle_out)\n",
    "pickle_out.close()\n",
    "\n",
    "pickle_out = open(\"y.pickle\", \"wb\")\n",
    "pickle.dump(y, pickle_out)\n",
    "pickle_out.close()"
   ]
  }
 ],
 "metadata": {
  "kernelspec": {
   "display_name": "Python 3",
   "language": "python",
   "name": "python3"
  },
  "language_info": {
   "codemirror_mode": {
    "name": "ipython",
    "version": 3
   },
   "file_extension": ".py",
   "mimetype": "text/x-python",
   "name": "python",
   "nbconvert_exporter": "python",
   "pygments_lexer": "ipython3",
   "version": "3.6.8"
  }
 },
 "nbformat": 4,
 "nbformat_minor": 2
}
